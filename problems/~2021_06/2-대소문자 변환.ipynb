{
 "cells": [
  {
   "cell_type": "markdown",
   "metadata": {},
   "source": [
    "# 대소문자 변환\n",
    "\n",
    "대문자와 소문자가 같이 존재하는 문자열을 입력받아 대문자는 소문자로 소문자는 대문자로 변환하여 출력하는 프로그램을 작성하세요.\n",
    "\n",
    "▣ 입력설명\n",
    "\n",
    "첫 줄에 문자열이 입력된다. 문자열의 길이는 100을 넘지 않습니다. 문자열은 영어 알파벳으로만 구성되어 있습니다.\n",
    "\n",
    "▣ 출력설명\n",
    "\n",
    "첫 줄에 대문자는 소문자로, 소문자는 대문자로 변환된 문자열을 출력합니다.\n",
    "\n",
    "▣ 입력예제 1\n",
    "\n",
    "StuDY\n",
    "\n",
    "▣ 출력예제 1\n",
    "\n",
    "sTUdy"
   ]
  },
  {
   "cell_type": "markdown",
   "metadata": {},
   "source": [
    "### str.swapcase()"
   ]
  },
  {
   "cell_type": "code",
   "execution_count": 1,
   "metadata": {},
   "outputs": [
    {
     "name": "stdout",
     "output_type": "stream",
     "text": [
      "STudY\n",
      "stUDy\n"
     ]
    }
   ],
   "source": [
    "string = input()\n",
    "\n",
    "print(string.swapcase())"
   ]
  },
  {
   "cell_type": "markdown",
   "metadata": {},
   "source": [
    "### 다른 방법"
   ]
  },
  {
   "cell_type": "code",
   "execution_count": 3,
   "metadata": {},
   "outputs": [],
   "source": [
    "def swap_case(string: str) -> str:\n",
    "    answer = []\n",
    "    for char in string:\n",
    "        if char.isupper():\n",
    "            answer.append(char.lower())\n",
    "        else:\n",
    "            answer.append(char.upper())\n",
    "    return \"\".join(answer)"
   ]
  },
  {
   "cell_type": "markdown",
   "metadata": {},
   "source": [
    "파이썬에서 string concatenation을 할 때는 위처럼 배열에 담아서 join으로 합쳐주는게 효율적이다."
   ]
  },
  {
   "cell_type": "code",
   "execution_count": 4,
   "metadata": {},
   "outputs": [
    {
     "name": "stdout",
     "output_type": "stream",
     "text": [
      "StUdY\n",
      "sTuDy\n"
     ]
    }
   ],
   "source": [
    "string = input()\n",
    "\n",
    "print(swap_case(string))"
   ]
  }
 ],
 "metadata": {
  "kernelspec": {
   "display_name": "Python 3",
   "language": "python",
   "name": "python3"
  },
  "language_info": {
   "codemirror_mode": {
    "name": "ipython",
    "version": 3
   },
   "file_extension": ".py",
   "mimetype": "text/x-python",
   "name": "python",
   "nbconvert_exporter": "python",
   "pygments_lexer": "ipython3",
   "version": "3.8.5"
  }
 },
 "nbformat": 4,
 "nbformat_minor": 4
}
