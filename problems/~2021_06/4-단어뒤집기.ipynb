{
 "cells": [
  {
   "cell_type": "markdown",
   "metadata": {},
   "source": [
    "# 단어 뒤집기\n",
    "\n",
    "N개의 단어가 주어지면 각 단어를 뒤집어 출력하는 프로그램을 작성하세요.\n",
    "\n",
    "▣ 입력설명\n",
    "\n",
    "첫 줄에 자연수 N(3<=N<=20)이 주어집니다.\n",
    "두 번째 줄부터 N개의 단어가 각 줄에 하나씩 주어집니다. 단어는 영어 알파벳으로만 구성되어 있습니다.\n",
    "\n",
    "▣ 출력설명\n",
    "\n",
    "N개의 단어를 입력된 순서대로 한 줄에 하나씩 뒤집어서 출력합니다.\n",
    "\n",
    "▣ 입력예제 1 \n",
    "\n",
    "3\n",
    "\n",
    "good\n",
    "\n",
    "Time\n",
    "\n",
    "Big\n",
    "\n",
    "▣ 출력예제 1\n",
    "\n",
    "doog\n",
    "\n",
    "emiT\n",
    "\n",
    "giB"
   ]
  },
  {
   "cell_type": "markdown",
   "metadata": {},
   "source": [
    "### 리스트 슬라이싱을 이용한 뒤집기"
   ]
  },
  {
   "cell_type": "code",
   "execution_count": 1,
   "metadata": {},
   "outputs": [],
   "source": [
    "def reverse_word(word: str) -> str:\n",
    "    return word[::-1]"
   ]
  },
  {
   "cell_type": "code",
   "execution_count": 3,
   "metadata": {},
   "outputs": [
    {
     "name": "stdout",
     "output_type": "stream",
     "text": [
      "3\n",
      "good\n",
      "time\n",
      "study\n",
      "doog\n",
      "emit\n",
      "yduts\n"
     ]
    }
   ],
   "source": [
    "from typing import List\n",
    "\n",
    "\n",
    "n = int(input())\n",
    "answer: List = []\n",
    "\n",
    "for _ in range(n):\n",
    "    word = input()\n",
    "    answer.append(reverse_word(word))\n",
    "\n",
    "for word in answer:\n",
    "    print(word)"
   ]
  }
 ],
 "metadata": {
  "kernelspec": {
   "display_name": "Python 3",
   "language": "python",
   "name": "python3"
  },
  "language_info": {
   "codemirror_mode": {
    "name": "ipython",
    "version": 3
   },
   "file_extension": ".py",
   "mimetype": "text/x-python",
   "name": "python",
   "nbconvert_exporter": "python",
   "pygments_lexer": "ipython3",
   "version": "3.8.5"
  }
 },
 "nbformat": 4,
 "nbformat_minor": 4
}
