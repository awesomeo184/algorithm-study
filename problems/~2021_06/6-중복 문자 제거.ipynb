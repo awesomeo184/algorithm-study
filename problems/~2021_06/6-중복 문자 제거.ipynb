{
 "cells": [
  {
   "cell_type": "markdown",
   "metadata": {},
   "source": [
    "# 중복 문자 제거\n",
    "\n",
    "소문자로 된 한개의 문자열이 입력되면 중복된 문자를 제거하고 출력하는 프로그램을 작성하세요.\n",
    "제거된 문자열의 각 문자는 원래 문자열의 순서를 유지합니다.\n",
    "\n",
    "▣ 입력설명\n",
    "\n",
    "첫 줄에 문자열이 입력됩니다. 문자열의 길이는 100을 넘지 않는다.\n",
    "\n",
    "▣ 출력설명\n",
    "\n",
    "첫 줄에 중복문자가 제거된 문자열을 출력합니다.\n",
    "\n",
    "▣ 입력예제 1 \n",
    "\n",
    "ksekkset\n",
    "\n",
    "▣ 출력예제 1 \n",
    "\n",
    "kset"
   ]
  },
  {
   "cell_type": "code",
   "execution_count": 1,
   "metadata": {},
   "outputs": [],
   "source": [
    "def remove_duplicate_char(string: str) -> str:\n",
    "    chars = [char for char in string]\n",
    "    return \"\".join(list(dict.fromkeys(chars)))"
   ]
  },
  {
   "cell_type": "code",
   "execution_count": 2,
   "metadata": {},
   "outputs": [
    {
     "name": "stdout",
     "output_type": "stream",
     "text": [
      "ksekkset\n",
      "kset\n"
     ]
    }
   ],
   "source": [
    "string = input()\n",
    "print(remove_duplicate_char(string))"
   ]
  }
 ],
 "metadata": {
  "kernelspec": {
   "display_name": "Python 3",
   "language": "python",
   "name": "python3"
  },
  "language_info": {
   "codemirror_mode": {
    "name": "ipython",
    "version": 3
   },
   "file_extension": ".py",
   "mimetype": "text/x-python",
   "name": "python",
   "nbconvert_exporter": "python",
   "pygments_lexer": "ipython3",
   "version": "3.8.5"
  }
 },
 "nbformat": 4,
 "nbformat_minor": 4
}
