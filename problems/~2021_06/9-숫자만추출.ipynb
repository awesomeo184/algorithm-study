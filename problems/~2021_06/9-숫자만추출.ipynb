{
 "cells": [
  {
   "cell_type": "markdown",
   "metadata": {},
   "source": [
    "# 숫자만 추출\n",
    "\n",
    "문자와 숫자가 섞여있는 문자열이 주어지면 그 중 숫자만 추출하여 그 순서대로 자연수를 만듭니다.\n",
    "\n",
    "만약 “tge0a1h205er”에서 숫자만 추출하면 0, 1, 2, 0, 5이고 이것을 자연수를 만들면 1205 이 됩니다.\n",
    "\n",
    "추출하여 만들어지는 자연수는 100,000,000을 넘지 않습니다.\n",
    "\n",
    "▣ 입력설명\n",
    "\n",
    "첫 줄에 숫자가 썩인 문자열이 주어집니다. 문자열의 길이는 100을 넘지 않습니다.\n",
    "\n",
    "▣ 출력설명\n",
    "\n",
    "첫 줄에 자연수를 출력합니다.\n",
    "\n",
    "▣ 입력예제 1 \n",
    "\n",
    "g0en2T0s8eSoft\n",
    "\n",
    "▣ 출력예제 1 \n",
    "\n",
    "208"
   ]
  },
  {
   "cell_type": "code",
   "execution_count": 1,
   "metadata": {},
   "outputs": [],
   "source": [
    "def extract_number(string: str) -> int:\n",
    "    numbers: string = \"\".join([char for char in string if char.isdigit()])\n",
    "    return int(numbers)"
   ]
  },
  {
   "cell_type": "code",
   "execution_count": 2,
   "metadata": {},
   "outputs": [
    {
     "name": "stdout",
     "output_type": "stream",
     "text": [
      "g0en2T0s8eSoft\n",
      "208\n"
     ]
    }
   ],
   "source": [
    "string = input()\n",
    "print(extract_number(string))"
   ]
  }
 ],
 "metadata": {
  "kernelspec": {
   "display_name": "Python 3",
   "language": "python",
   "name": "python3"
  },
  "language_info": {
   "codemirror_mode": {
    "name": "ipython",
    "version": 3
   },
   "file_extension": ".py",
   "mimetype": "text/x-python",
   "name": "python",
   "nbconvert_exporter": "python",
   "pygments_lexer": "ipython3",
   "version": "3.8.5"
  }
 },
 "nbformat": 4,
 "nbformat_minor": 4
}
