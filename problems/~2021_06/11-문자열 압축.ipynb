{
 "cells": [
  {
   "cell_type": "markdown",
   "metadata": {},
   "source": [
    "# 문자열 압축\n",
    "\n",
    "알파벳 대문자로 이루어진 문자열을 입력받아 같은 문자가 연속으로 반복되는 경우 반복되는 문자 바로 오른쪽에 반복 횟수를 표기하는 방법으로 문자열을 압축하는 프로그램을 작성하시오. 단 반복횟수가 1인 경우 생략합니다.\n",
    "\n",
    "▣ 입력설명\n",
    "\n",
    "첫 줄에 문자열이 주어진다. 문자열의 길이는 100을 넘지 않는다.\n",
    "\n",
    "▣ 출력설명\n",
    "\n",
    "첫 줄에 압축된 문자열을 출력한다.\n",
    "\n",
    "▣ 입력예제 1 \n",
    "\n",
    "KKHSSSSSSSE\n",
    "\n",
    "▣ 출력예제 1 \n",
    "\n",
    "K2HS7E"
   ]
  },
  {
   "cell_type": "code",
   "execution_count": 1,
   "metadata": {},
   "outputs": [],
   "source": [
    "def solution(string: str) -> str:\n",
    "    string = string + \" \"\n",
    "\n",
    "    answer = []\n",
    "    count = 1\n",
    "\n",
    "    for i in range(len(string) - 1):\n",
    "        if string[i] == string[i+1]:\n",
    "            count += 1\n",
    "        else:\n",
    "            answer.append(string[i])\n",
    "            if count > 1:\n",
    "                answer.append(str(count))\n",
    "            count = 1\n",
    "\n",
    "    return \"\".join(answer)"
   ]
  },
  {
   "cell_type": "code",
   "execution_count": 2,
   "metadata": {},
   "outputs": [
    {
     "name": "stdout",
     "output_type": "stream",
     "text": [
      "KKHSSSSSSSE\n",
      "K2HS7E\n"
     ]
    }
   ],
   "source": [
    "string = input()\n",
    "\n",
    "print(solution(string))"
   ]
  }
 ],
 "metadata": {
  "kernelspec": {
   "display_name": "Python 3",
   "language": "python",
   "name": "python3"
  },
  "language_info": {
   "codemirror_mode": {
    "name": "ipython",
    "version": 3
   },
   "file_extension": ".py",
   "mimetype": "text/x-python",
   "name": "python",
   "nbconvert_exporter": "python",
   "pygments_lexer": "ipython3",
   "version": "3.8.5"
  }
 },
 "nbformat": 4,
 "nbformat_minor": 4
}
