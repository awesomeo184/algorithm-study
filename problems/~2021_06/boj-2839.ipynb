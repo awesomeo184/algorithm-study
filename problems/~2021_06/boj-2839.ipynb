{
 "cells": [
  {
   "cell_type": "markdown",
   "metadata": {},
   "source": [
    "# 설탕 배달\n",
    "\n",
    "전형적이고 기본적인 그리디 알고리즘 문제.\n",
    "가장 작은 봉지 수를 구하려면, 5kg 봉지는 최대한 많이, 3kg 봉지는 최대한 적게 가져야 한다.\n",
    "\n",
    "즉 매 실행마다 5로 나누어 떨어지는지 확인하고 아니라면 3을 한번씩 빼주면 된다."
   ]
  },
  {
   "cell_type": "code",
   "execution_count": 1,
   "metadata": {},
   "outputs": [
    {
     "name": "stdout",
     "output_type": "stream",
     "text": [
      "8\n",
      "2\n"
     ]
    }
   ],
   "source": [
    "n = int(input())\n",
    "\n",
    "count = 0\n",
    "\n",
    "while True:\n",
    "    if n % 5 == 0:\n",
    "        count += n // 5\n",
    "        break\n",
    "    else:\n",
    "        n -= 3\n",
    "        count += 1\n",
    "        if n < 0:\n",
    "            count = -1\n",
    "            break\n",
    "\n",
    "print(count)"
   ]
  }
 ],
 "metadata": {
  "kernelspec": {
   "display_name": "Python 3",
   "language": "python",
   "name": "python3"
  },
  "language_info": {
   "codemirror_mode": {
    "name": "ipython",
    "version": 3
   },
   "file_extension": ".py",
   "mimetype": "text/x-python",
   "name": "python",
   "nbconvert_exporter": "python",
   "pygments_lexer": "ipython3",
   "version": "3.8.5"
  }
 },
 "nbformat": 4,
 "nbformat_minor": 4
}
