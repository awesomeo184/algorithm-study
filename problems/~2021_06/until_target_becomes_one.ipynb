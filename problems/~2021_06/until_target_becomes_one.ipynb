{
 "cells": [
  {
   "cell_type": "markdown",
   "metadata": {},
   "source": [
    "# 1이 될 때까지\n",
    "\n",
    "어떠한 수 N이 1이 될 때까지 다음의 두 과정 중 하나를 반복적으로 선택하여 수행하려고 한다. 단, 두 번째 연산은 N이 K로 나누어떨어질 때만 선택할 수 있다.\n",
    "1. N에서 1을 뺀다.\n",
    "2. N을 K로 나눈다.\n",
    "\n",
    "첫째 줄에 N, K가 주어진다(2 <= N, K <= 100,000).\n",
    "N이 1이 될 때까지 1번 혹은 2번 과정을 수행해야 하는 횟수의 최솟값을 출력한다.\n",
    "\n",
    "## 해결 전략\n",
    "\n",
    "K는 2 이상이므로 나누는 횟수가 최대가 될 때 수행 횟수가 최솟값이 된다.\n",
    "\n",
    "따라서 N을 K로 나눌 수 있는지 확인하고, 아니라면 N%K 만큼 빼준다."
   ]
  },
  {
   "cell_type": "code",
   "execution_count": null,
   "metadata": {},
   "outputs": [],
   "source": [
    "# 첫 풀이 - 오답\n",
    "\n",
    "target, n = map(int, input().split())\n",
    "\n",
    "result = 0\n",
    "\n",
    "while target != 1:\n",
    "    if target % n == 0:\n",
    "        target //= n\n",
    "        result += 1\n",
    "    else:\n",
    "        mod = target % n\n",
    "        target -= mod\n",
    "        result += mod\n",
    "\n",
    "print(result)"
   ]
  },
  {
   "cell_type": "markdown",
   "metadata": {},
   "source": [
    "틀린 이유\n",
    "\n",
    "target이 n보다 작을 경우를 고려하지 않음.\n",
    "\n",
    "**가능한 경우의 수를 모두 고민해보려는 노력하기**"
   ]
  },
  {
   "cell_type": "code",
   "execution_count": null,
   "metadata": {},
   "outputs": [],
   "source": [
    "n, k = map(int, input().split())\n",
    "result = 0\n",
    "\n",
    "# n이 k 이상이라면 k로 계속 나눈다.\n",
    "while n >= k:\n",
    "    while n % k != 0:\n",
    "        n -= 1\n",
    "        result += 1\n",
    "    n //= k\n",
    "    result += 1\n",
    "    \n",
    "while n > 1:\n",
    "    n -= 1\n",
    "    result += 1\n",
    "    \n",
    "print(result)"
   ]
  }
 ],
 "metadata": {
  "kernelspec": {
   "display_name": "Python 3",
   "language": "python",
   "name": "python3"
  },
  "language_info": {
   "codemirror_mode": {
    "name": "ipython",
    "version": 3
   },
   "file_extension": ".py",
   "mimetype": "text/x-python",
   "name": "python",
   "nbconvert_exporter": "python",
   "pygments_lexer": "ipython3",
   "version": "3.8.5"
  }
 },
 "nbformat": 4,
 "nbformat_minor": 4
}
