{
 "cells": [
  {
   "cell_type": "markdown",
   "metadata": {},
   "source": [
    "# 회문 문자열\n",
    "\n",
    "앞에서 읽을 때나 뒤에서 읽을 때나 같은 문자열을 회문 문자열이라고 합니다.\n",
    "\n",
    "문자열이 입력되면 해당 문자열이 회문 문자열이면 \"YES\", 회문 문자열이 아니면 “NO\"를 출력 하는 프로그램을 작성하세요.\n",
    "\n",
    "단 회문을 검사할 때 대소문자를 구분하지 않습니다.\n",
    "\n",
    "▣ 입력설명\n",
    "\n",
    "첫 줄에 길이 100을 넘지 않는 공백이 없는 문자열이 주어집니다.\n",
    "\n",
    "▣ 출력설명\n",
    "\n",
    "첫 번째 줄에 회문 문자열인지의 결과를 YES 또는 NO로 출력합니다.\n",
    "\n",
    "▣ 입력예제 1 \n",
    "\n",
    "gooG\n",
    "\n",
    "▣ 출력예제 1 \n",
    "\n",
    "YES"
   ]
  },
  {
   "cell_type": "code",
   "execution_count": 4,
   "metadata": {},
   "outputs": [],
   "source": [
    "def is_palindrome(string: str) -> str:\n",
    "    string = string.upper()\n",
    "    if not string == string[::-1]:\n",
    "        return \"No\"\n",
    "\n",
    "    return \"Yes\""
   ]
  },
  {
   "cell_type": "code",
   "execution_count": 5,
   "metadata": {},
   "outputs": [
    {
     "name": "stdout",
     "output_type": "stream",
     "text": [
      "gooG\n",
      "Yes\n"
     ]
    }
   ],
   "source": [
    "string = input()\n",
    "print(is_palindrome(string))"
   ]
  }
 ],
 "metadata": {
  "kernelspec": {
   "display_name": "Python 3",
   "language": "python",
   "name": "python3"
  },
  "language_info": {
   "codemirror_mode": {
    "name": "ipython",
    "version": 3
   },
   "file_extension": ".py",
   "mimetype": "text/x-python",
   "name": "python",
   "nbconvert_exporter": "python",
   "pygments_lexer": "ipython3",
   "version": "3.8.5"
  }
 },
 "nbformat": 4,
 "nbformat_minor": 4
}
