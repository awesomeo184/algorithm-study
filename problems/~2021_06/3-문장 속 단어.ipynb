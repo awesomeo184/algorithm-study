{
 "cells": [
  {
   "cell_type": "markdown",
   "metadata": {},
   "source": [
    "## 문장 속 단어\n",
    "\n",
    "한 개의 문장이 주어지면 그 문장 속에서 가장 긴 단어를 출력하는 프로그램을 작성하세요. 문장속의 각 단어는 공백으로 구분됩니다.\n",
    "\n",
    "▣ 입력설명\n",
    "\n",
    "첫 줄에 길이가 100을 넘지 않는 한 개의 문장이 주어집니다. 문장은 영어 알파벳으로만 구성 되어 있습니다.\n",
    "\n",
    "▣ 출력설명\n",
    "\n",
    "첫 줄에 가장 긴 단어를 출력한다. 가장 긴 단어가 여러개일 경우 문장속에가 가장 앞쪽에 위 치한 단어를 답으로 합니다.\n",
    "\n",
    "▣ 입력예제 1\n",
    "\n",
    "it is time to study\n",
    "\n",
    "▣ 출력예제 1 \n",
    "\n",
    "study"
   ]
  },
  {
   "cell_type": "code",
   "execution_count": 1,
   "metadata": {},
   "outputs": [],
   "source": [
    "from typing import List\n",
    "\n",
    "\n",
    "def find_longest_word(string: str) -> str:\n",
    "    words: List = string.split(\" \")\n",
    "    count: int = -1\n",
    "    answer: str = \"\"\n",
    "\n",
    "    for word in words:\n",
    "        if len(word) > count:\n",
    "            count = len(word)\n",
    "            answer = word\n",
    "    return answer"
   ]
  },
  {
   "cell_type": "code",
   "execution_count": 2,
   "metadata": {},
   "outputs": [
    {
     "name": "stdout",
     "output_type": "stream",
     "text": [
      "it is time to study haard\n",
      "study\n"
     ]
    }
   ],
   "source": [
    "string = input()\n",
    "\n",
    "print(find_longest_word(string))"
   ]
  }
 ],
 "metadata": {
  "kernelspec": {
   "display_name": "Python 3",
   "language": "python",
   "name": "python3"
  },
  "language_info": {
   "codemirror_mode": {
    "name": "ipython",
    "version": 3
   },
   "file_extension": ".py",
   "mimetype": "text/x-python",
   "name": "python",
   "nbconvert_exporter": "python",
   "pygments_lexer": "ipython3",
   "version": "3.8.5"
  }
 },
 "nbformat": 4,
 "nbformat_minor": 4
}
