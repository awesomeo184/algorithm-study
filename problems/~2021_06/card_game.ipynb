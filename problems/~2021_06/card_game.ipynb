{
 "cells": [
  {
   "cell_type": "markdown",
   "metadata": {},
   "source": [
    "# 숫자카드게임\n",
    "\n",
    "여러 개의 숫자 카드 중에서 가장 높은 숫자가 쓰인 카드 한 장을 뽑는다.\n",
    "단 게임의 규칙을 따라야 한다.\n",
    "\n",
    "1. 숫자가 쓰인 카드들이 N * N 형태로 놓여 있다. 이때 N은 행의 개수를 의미하며, M은 열의 개수를 의미한다.\n",
    "2. 먼저 뽑고자 하는 카드가 포함되어 있는 행을 선택한다.\n",
    "3. 그다음선택된 행에 포함된 카드들 중 가장 숫자가 낮은 카드를 뽑아야 한다.\n",
    "4. 따라서 처음에 카드를 골라낼 행을 선택할 때, 이후에 해당 행에서 가장 숫자가 낮은 카드를 뽑을 것을 고려하여 최종적으로 가장 높은 숫자의 카드를 뽑을 수 있도록 전략을 세워야 한다.\n",
    "\n",
    "첫 줄에 행의 개수 N, 열의 개수 M이 주어진다.\n",
    "둘째 줄부터 카드에 적힌 숫자가 주어진다.\n",
    "\n",
    "입력 예시1\n",
    "```\n",
    "3 3\n",
    "3 1 2\n",
    "4 1 4\n",
    "2 2 2\n",
    "```\n",
    "\n",
    "출력 예시1\n",
    "```\n",
    "2\n",
    "```\n",
    "\n",
    "입력 예시2\n",
    "```\n",
    "2 4\n",
    "7 3 1 8\n",
    "3 3 3 4\n",
    "```\n",
    "\n",
    "출력 예시2\n",
    "```\n",
    "3\n",
    "```\n",
    "\n",
    "## 해결 전략\n",
    "\n",
    "각 row 중 가장 작은 숫자를 뽑는다.\n",
    "뽑은 숫자들 중 가장 큰 숫자를 뽑는다."
   ]
  },
  {
   "cell_type": "markdown",
   "metadata": {},
   "source": [
    "## 내 풀이"
   ]
  },
  {
   "cell_type": "code",
   "execution_count": 3,
   "metadata": {},
   "outputs": [
    {
     "name": "stdout",
     "output_type": "stream",
     "text": [
      "2 4\n",
      "7 3 1 8\n",
      "3 3 3 4\n",
      "3\n"
     ]
    }
   ],
   "source": [
    "N, M = map(int, input().split())\n",
    "\n",
    "min_list = []\n",
    "\n",
    "for i in range(N):\n",
    "    tmp = list(map(int, input().split()))\n",
    "    min_list.append(min(tmp))\n",
    "\n",
    "result = max(min_list)\n",
    "print(result)"
   ]
  },
  {
   "cell_type": "markdown",
   "metadata": {},
   "source": [
    "## 답안"
   ]
  },
  {
   "cell_type": "code",
   "execution_count": null,
   "metadata": {},
   "outputs": [],
   "source": [
    "n, m = map(int, input().split())\n",
    "\n",
    "result = 0\n",
    "\n",
    "for i in range(n):\n",
    "    data = list(map(int, input().split()))\n",
    "    min_value = min(data)\n",
    "    \n",
    "    result = max(result, min_value)\n",
    "    \n",
    "print(result)"
   ]
  },
  {
   "cell_type": "code",
   "execution_count": null,
   "metadata": {},
   "outputs": [],
   "source": []
  }
 ],
 "metadata": {
  "kernelspec": {
   "display_name": "Python 3",
   "language": "python",
   "name": "python3"
  },
  "language_info": {
   "codemirror_mode": {
    "name": "ipython",
    "version": 3
   },
   "file_extension": ".py",
   "mimetype": "text/x-python",
   "name": "python",
   "nbconvert_exporter": "python",
   "pygments_lexer": "ipython3",
   "version": "3.8.5"
  }
 },
 "nbformat": 4,
 "nbformat_minor": 4
}
