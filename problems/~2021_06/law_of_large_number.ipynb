{
 "cells": [
  {
   "cell_type": "markdown",
   "metadata": {},
   "source": [
    "## 입력조건\n",
    "\n",
    "첫째 줄에 자연수 N(2 <= N <= 1,000), M(1 <= M <= 10,000), K(1<= K <= 10,000)가 주어지며 각 자연수는 공백으로 구분한다.\n",
    "둘째 줄에 N개의 자연수가 주어진다. 각 자연수는 공백으로 구분한다. 단 각 자연수는 1 이상 10,000 이하이다.\n",
    "입력으로 주어지는 K는 항상 M보다 작거나 같다.\n",
    "\n",
    "## 출력조건\n",
    "N 개의 자연수를 M번 더해서 나올 수 있는 가장 큰 값을 출력한다.단 같은 위치에 있는 자연수는 연속해서 K번을 초과해 더할 수 없다.\n",
    "예를 들어 3, 4, 3, 4, 3 이 주어지고 M = 7 , K = 2일 때, 출력은 4+4+4+4+4+4+4 = 28이다."
   ]
  },
  {
   "cell_type": "code",
   "execution_count": 1,
   "metadata": {},
   "outputs": [
    {
     "name": "stdout",
     "output_type": "stream",
     "text": [
      "5 8 3\n",
      "2 4 5 4 6\n",
      "46\n"
     ]
    }
   ],
   "source": [
    "N, M, K = map(int, input().split())\n",
    "numbers = list(map(int, input().split()))\n",
    "\n",
    "numbers.sort()\n",
    "\n",
    "first = numbers[-1]\n",
    "second = numbers[-2]\n",
    "\n",
    "result = 0\n",
    "\n",
    "while True:\n",
    "    for _ in range(K):\n",
    "        if M == 0:\n",
    "            break\n",
    "        M -= 1\n",
    "        result += first\n",
    "    if M == 0:\n",
    "        break\n",
    "    M -= 1\n",
    "    result += second\n",
    "    \n",
    "print(result)"
   ]
  },
  {
   "cell_type": "code",
   "execution_count": null,
   "metadata": {},
   "outputs": [],
   "source": []
  }
 ],
 "metadata": {
  "kernelspec": {
   "display_name": "Python 3",
   "language": "python",
   "name": "python3"
  },
  "language_info": {
   "codemirror_mode": {
    "name": "ipython",
    "version": 3
   },
   "file_extension": ".py",
   "mimetype": "text/x-python",
   "name": "python",
   "nbconvert_exporter": "python",
   "pygments_lexer": "ipython3",
   "version": "3.8.5"
  }
 },
 "nbformat": 4,
 "nbformat_minor": 4
}
