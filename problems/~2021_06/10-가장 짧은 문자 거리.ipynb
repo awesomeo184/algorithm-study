{
 "cells": [
  {
   "cell_type": "markdown",
   "metadata": {},
   "source": [
    "# 가장 짧은 문자 거리\n",
    "\n",
    "한 개의 문자열 s와 문자 t가 주어지면 문자열 s의 각 문자가 문자 t와 떨어진 최소거리를 출력하는 프로그램을 작성하세요.\n",
    "\n",
    "▣ 입력설명\n",
    "\n",
    "첫 번째 줄에 문자열 s와 문자 t가 주어진다. 문자열과 문자는 소문자로만 주어집니다. 문자열의 길이는 100을 넘지 않는다.\n",
    "\n",
    "▣ 출력설명\n",
    "\n",
    "첫 번째 줄에 각 문자열 s의 각 문자가 문자 t와 떨어진 거리를 순서대로 출력한다.\n",
    "\n",
    "▣ 입력예제 1 \n",
    "\n",
    "teachermode e\n",
    "\n",
    "▣ 출력예제 1 \n",
    "\n",
    "10121012210\n",
    "\n",
    "\n",
    "## 접근법\n",
    "\n",
    "왼쪽에서부터 e와의 거리를 기록한다.\n",
    "오른쪽에서 다시 e와의 거리를 계산하며 최소값을 기록한다."
   ]
  },
  {
   "cell_type": "code",
   "execution_count": 4,
   "metadata": {},
   "outputs": [],
   "source": [
    "import sys\n",
    "\n",
    "\n",
    "def solution(string: str, char: str) -> str:\n",
    "    answer: List = [0 for _ in range(len(string))]\n",
    "\n",
    "    distance: int = sys.maxsize\n",
    "\n",
    "    for i in range(len(string)):\n",
    "        if string[i] == char:\n",
    "            distance = 0\n",
    "            answer[i] = distance\n",
    "        else:\n",
    "            answer[i] = distance\n",
    "        distance += 1\n",
    "\n",
    "    for i in range(len(string) - 1, -1, -1):\n",
    "        if string[i] == char:\n",
    "            distance = 0\n",
    "        else:\n",
    "            answer[i] = min(answer[i], distance)\n",
    "        distance += 1\n",
    "\n",
    "    return \" \".join(list(map(str, answer)))"
   ]
  },
  {
   "cell_type": "code",
   "execution_count": 5,
   "metadata": {},
   "outputs": [
    {
     "name": "stdout",
     "output_type": "stream",
     "text": [
      "teachermode e\n",
      "1 0 1 2 1 0 1 2 2 1 0\n"
     ]
    }
   ],
   "source": [
    "string, char = input().split()\n",
    "\n",
    "print(solution(string, char))"
   ]
  }
 ],
 "metadata": {
  "kernelspec": {
   "display_name": "Python 3",
   "language": "python",
   "name": "python3"
  },
  "language_info": {
   "codemirror_mode": {
    "name": "ipython",
    "version": 3
   },
   "file_extension": ".py",
   "mimetype": "text/x-python",
   "name": "python",
   "nbconvert_exporter": "python",
   "pygments_lexer": "ipython3",
   "version": "3.8.5"
  }
 },
 "nbformat": 4,
 "nbformat_minor": 4
}
