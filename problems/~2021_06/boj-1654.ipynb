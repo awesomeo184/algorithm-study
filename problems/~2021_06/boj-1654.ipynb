{
 "cells": [
  {
   "cell_type": "markdown",
   "metadata": {},
   "source": [
    "# 랜선 자르기\n",
    "\n",
    "못 풀었다. 반복문의 종료 조건을 잘못 잡았다. 이분탐색은 low <= high인 동안 반복하면 된다. 종료조건은 이미 있는데 종료 조건을 생각하느라 시간도 많이 썼다. 즉 이분탐색을 제대로 이해하지 못했음.\n",
    "\n",
    "\n",
    "## 해결 전략\n",
    "\n",
    "우선 가장 먼저 떠올릴 수 있는 풀이는 다음과 같다.\n",
    "1부터 시작해서 조건에 맞는지 검사하면서 값을 1씩 늘린다.\n",
    "조건을 만족하면 result에 값을 저장한다.\n",
    "더이상 조건을 만족하지 못하면 result 값을 반환한다. 완전탐색이다.\n",
    "\n",
    "근데 최대 랜선의 길이가 2^31 -1 이다. 완전탐색으로는 시간이 너무 오래 걸린다.\n",
    "\n",
    "그런데 생각해보면 이 문제는 이분탐색이 적용 가능하다. 왜냐하면 중간값을 잡고 조건을 판단하면 절반을 버릴 수 있다.\n",
    "무슨 말이냐면 만약 mid가 조건을 만족하면 mid보다 작은 값은 더이상 탐색하지 않아도 된다. 조건을 만족하는 값 중 가장 큰 값을 구해야되니까\n",
    "만약 조건을 만족하지 못하면 mid보다 큰 값은 더이상 탐색하지 않아도 된다. 어차피 조건을 만족 못할거니까.\n",
    "또 탐색 대상이 길이이므로 순서가 있는 자료라고 생각해도 무방하다.\n",
    "\n",
    "로직은 다음과 같다.\n",
    "\n",
    "1. 랜선의 최대 길이를 high로 둔다.\n",
    "2. 자를 수 있는 최소 길이 1을 low로 둔다.\n",
    "3. mid를 구한다.\n",
    "4. mid가 조건을 만족하는가?\n",
    "    Yes\n",
    "    1. mid보다 작은 값은 더이상 탐색할 필요가 없다.\n",
    "    2. 더 큰 길이로 조건을 만족할 수 있으므로 low = mid + 1\n",
    "    3. 3으로 돌아간다.\n",
    "\n",
    "    No\n",
    "    1. mid보다 큰 값은 더이상 탐색할 필요가 없다.\n",
    "    2. high = mid -1\n",
    "    3. 3으로 돌아간다.\n",
    "5. 종료 조건은? !(low <= high)\n"
   ]
  },
  {
   "cell_type": "code",
   "execution_count": 1,
   "metadata": {},
   "outputs": [
    {
     "name": "stdout",
     "output_type": "stream",
     "text": [
      "4 11\n",
      "802\n",
      "743\n",
      "457\n",
      "539\n",
      "200\n"
     ]
    }
   ],
   "source": [
    "def is_satisfied(wires, mid, target):\n",
    "    count = 0\n",
    "    for wire in wires:\n",
    "        count += wire // mid\n",
    "    if count >= target:\n",
    "        return True\n",
    "    return False\n",
    "\n",
    "N, K = map(int, input().split())\n",
    "\n",
    "wires = []\n",
    "for _ in range(N):\n",
    "    wires.append(int(input()))\n",
    "\n",
    "high = max(wires)\n",
    "low = 1\n",
    "result = 0\n",
    "\n",
    "while low <= high:\n",
    "    mid = low + (high - low) // 2\n",
    "    if is_satisfied(wires, mid, K):\n",
    "        if result < mid:\n",
    "            result = mid\n",
    "        low = mid + 1\n",
    "    else:\n",
    "        high = mid - 1\n",
    "\n",
    "print(result)"
   ]
  }
 ],
 "metadata": {
  "kernelspec": {
   "display_name": "Python 3",
   "language": "python",
   "name": "python3"
  },
  "language_info": {
   "codemirror_mode": {
    "name": "ipython",
    "version": 3
   },
   "file_extension": ".py",
   "mimetype": "text/x-python",
   "name": "python",
   "nbconvert_exporter": "python",
   "pygments_lexer": "ipython3",
   "version": "3.8.5"
  }
 },
 "nbformat": 4,
 "nbformat_minor": 4
}
