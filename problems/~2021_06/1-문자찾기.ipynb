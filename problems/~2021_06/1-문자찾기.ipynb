{
 "cells": [
  {
   "cell_type": "markdown",
   "metadata": {},
   "source": [
    "# 문자 찾기\n",
    "\n",
    "한 개의 문자열을 입력받고, 특정 문자를 입력받아 해당 특정문자가 입력받은 문자열에 몇 개 존재하는지 알아내는 프로그램을 작성하세요. \n",
    "대소문자를 구분하지 않습니다.\n",
    "\n",
    "문자열의 길이는 100을 넘지 않습니다.\n",
    "\n",
    "▣ 입력설명\n",
    "\n",
    "첫 줄에 문자열이 주어지고, 두 번째 줄에 문자가 주어진다. 문자열은 영어 알파벳으로만 구성되어 있습니다.\n",
    "\n",
    "▣ 출력설명\n",
    "\n",
    "첫 줄에 해당 문자의 개수를 출력한다.\n",
    "\n",
    "▣ 입력예제 1 \n",
    "\n",
    "Computercooler\n",
    "c\n",
    "\n",
    "▣ 출력예제 1 \n",
    "\n",
    "2"
   ]
  },
  {
   "cell_type": "markdown",
   "metadata": {},
   "source": [
    "### str의 count 메서드를 이용하는 방법\n",
    "\n",
    "str.count(sub[, start[, end]])\n",
    "\n",
    "Return the number of non-overlapping occurrences of substring sub in the range [start, end]. Optional arguments start and end are interpreted as in slice notation."
   ]
  },
  {
   "cell_type": "code",
   "execution_count": 1,
   "metadata": {},
   "outputs": [],
   "source": [
    "def count_character_with_string_method(string: str, char: str) -> int:\n",
    "    string = string.lower()\n",
    "    char = char.lower()\n",
    "    return string.count(char)"
   ]
  },
  {
   "cell_type": "markdown",
   "metadata": {},
   "source": [
    "### 일반적인 방법"
   ]
  },
  {
   "cell_type": "code",
   "execution_count": 2,
   "metadata": {},
   "outputs": [],
   "source": [
    "def count_character(string: str, char: str) -> int:\n",
    "    answer = 0\n",
    "    string = string.lower()\n",
    "    char = char.lower()\n",
    "\n",
    "    for c in string:\n",
    "        if c == char:\n",
    "            answer += 1\n",
    "    return answer"
   ]
  },
  {
   "cell_type": "code",
   "execution_count": 3,
   "metadata": {},
   "outputs": [
    {
     "name": "stdout",
     "output_type": "stream",
     "text": [
      "Computercooler\n",
      "c\n",
      "2\n"
     ]
    }
   ],
   "source": [
    "string = input()\n",
    "char = input()\n",
    "\n",
    "print(count_character(string, char))"
   ]
  }
 ],
 "metadata": {
  "kernelspec": {
   "display_name": "Python 3",
   "language": "python",
   "name": "python3"
  },
  "language_info": {
   "codemirror_mode": {
    "name": "ipython",
    "version": 3
   },
   "file_extension": ".py",
   "mimetype": "text/x-python",
   "name": "python",
   "nbconvert_exporter": "python",
   "pygments_lexer": "ipython3",
   "version": "3.8.5"
  }
 },
 "nbformat": 4,
 "nbformat_minor": 4
}
