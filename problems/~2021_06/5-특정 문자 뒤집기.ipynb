{
 "cells": [
  {
   "cell_type": "markdown",
   "metadata": {},
   "source": [
    "# 특정 문자 뒤집기\n",
    "\n",
    "영어 알파벳과 특수문자로 구성된 문자열이 주어지면 영어 알파벳만 뒤집고, 특수문자는 자기 자리에 그대로 있는 문자열을 만들어 출력하는 프로그램을 작성하세요.\n",
    "\n",
    "▣ 입력설명\n",
    "\n",
    "첫 줄에 길이가 100을 넘지 않는 문자열이 주어집니다.\n",
    "\n",
    "▣ 출력설명\n",
    "\n",
    "첫 줄에 알파벳만 뒤집힌 문자열을 출력합니다.\n",
    "\n",
    "▣ 입력예제 1 \n",
    "\n",
    "a#b!GE*T@S\n",
    "\n",
    "▣ 출력예제 1 \n",
    "\n",
    "S#T!EG*b@a"
   ]
  },
  {
   "cell_type": "code",
   "execution_count": 1,
   "metadata": {},
   "outputs": [],
   "source": [
    "def reverse_word(string: str) -> str:\n",
    "    chars = [char for char in string]\n",
    "\n",
    "    left_pointer = 0\n",
    "    right_pointer = len(chars) - 1\n",
    "\n",
    "    while left_pointer < right_pointer:\n",
    "        if not chars[left_pointer].isalpha():\n",
    "            left_pointer += 1\n",
    "        elif not chars[right_pointer].isalpha():\n",
    "            right_pointer -= 1\n",
    "        else:\n",
    "            tmp = chars[left_pointer]\n",
    "            chars[left_pointer] = chars[right_pointer]\n",
    "            chars[right_pointer] = tmp\n",
    "\n",
    "            left_pointer += 1\n",
    "            right_pointer -= 1\n",
    "\n",
    "    return \"\".join(chars)"
   ]
  },
  {
   "cell_type": "code",
   "execution_count": 2,
   "metadata": {},
   "outputs": [
    {
     "name": "stdout",
     "output_type": "stream",
     "text": [
      "a#b!GE*T@S\n",
      "S#T!EG*b@a\n"
     ]
    }
   ],
   "source": [
    "string = input()\n",
    "print(reverse_word(string))"
   ]
  }
 ],
 "metadata": {
  "kernelspec": {
   "display_name": "Python 3",
   "language": "python",
   "name": "python3"
  },
  "language_info": {
   "codemirror_mode": {
    "name": "ipython",
    "version": 3
   },
   "file_extension": ".py",
   "mimetype": "text/x-python",
   "name": "python",
   "nbconvert_exporter": "python",
   "pygments_lexer": "ipython3",
   "version": "3.8.5"
  }
 },
 "nbformat": 4,
 "nbformat_minor": 4
}
